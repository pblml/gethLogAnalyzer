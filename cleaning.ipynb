{
 "cells": [
  {
   "cell_type": "code",
   "execution_count": 38,
   "metadata": {},
   "outputs": [],
   "source": [
    "from LogAnalyzer import logAnalyzer\n",
    "import pandas as pd\n",
    "import re"
   ]
  },
  {
   "cell_type": "code",
   "execution_count": 39,
   "metadata": {},
   "outputs": [
    {
     "name": "stderr",
     "output_type": "stream",
     "text": [
      "  0%|          | 0/5 [00:00<?, ?it/s]c:\\Users\\phili\\Documents\\PyProjects\\gethLogAnalyzer\\LogAnalyzer.py:69: FutureWarning: The frame.append method is deprecated and will be removed from pandas in a future version. Use pandas.concat instead.\n",
      "  combined_df = combined_df.append(df, ignore_index=True)\n",
      "c:\\Users\\phili\\Documents\\PyProjects\\gethLogAnalyzer\\LogAnalyzer.py:69: FutureWarning: The frame.append method is deprecated and will be removed from pandas in a future version. Use pandas.concat instead.\n",
      "  combined_df = combined_df.append(df, ignore_index=True)\n",
      "100%|██████████| 5/5 [00:00<00:00, 29.07it/s]\n"
     ]
    }
   ],
   "source": [
    "la = logAnalyzer(ip_list=[], log_dir=\"./logs/\")\n",
    "\n",
    "# la.get_logs()\n",
    "la.read_logs()\n",
    "\n",
    "logs = la.logs_df"
   ]
  },
  {
   "cell_type": "code",
   "execution_count": 40,
   "metadata": {},
   "outputs": [],
   "source": [
    "logs[\"timestamp\"] = pd.to_datetime(logs[\"timestamp\"], format='[%m-%d|%H:%M:%S.%f]') + pd.DateOffset(years=122, hours=1)"
   ]
  },
  {
   "cell_type": "code",
   "execution_count": 41,
   "metadata": {},
   "outputs": [],
   "source": [
    "logs.dropna(inplace=True)\n",
    "logs=logs[logs[\"message\"].str.contains(\"Imported new chain segment\")]\n"
   ]
  },
  {
   "cell_type": "code",
   "execution_count": 42,
   "metadata": {},
   "outputs": [
    {
     "name": "stderr",
     "output_type": "stream",
     "text": [
      "C:\\Users\\phili\\AppData\\Local\\Temp\\ipykernel_11216\\1340585868.py:1: SettingWithCopyWarning: \n",
      "A value is trying to be set on a copy of a slice from a DataFrame.\n",
      "Try using .loc[row_indexer,col_indexer] = value instead\n",
      "\n",
      "See the caveats in the documentation: https://pandas.pydata.org/pandas-docs/stable/user_guide/indexing.html#returning-a-view-versus-a-copy\n",
      "  logs[\"message\"] = logs[\"message\"].map(lambda x: re.sub(' +', ' ', x.lstrip(\"Imported new chain segment\")))\n"
     ]
    }
   ],
   "source": [
    "logs[\"message\"] = logs[\"message\"].map(lambda x: re.sub(' +', ' ', x.lstrip(\"Imported new chain segment\")))"
   ]
  },
  {
   "cell_type": "code",
   "execution_count": 43,
   "metadata": {},
   "outputs": [
    {
     "name": "stderr",
     "output_type": "stream",
     "text": [
      "C:\\Users\\phili\\AppData\\Local\\Temp\\ipykernel_11216\\2170069253.py:2: SettingWithCopyWarning: \n",
      "A value is trying to be set on a copy of a slice from a DataFrame.\n",
      "Try using .loc[row_indexer,col_indexer] = value instead\n",
      "\n",
      "See the caveats in the documentation: https://pandas.pydata.org/pandas-docs/stable/user_guide/indexing.html#returning-a-view-versus-a-copy\n",
      "  logs[[\"blocks\", \"txs\", \"mgas\", \"elapsed\", \"mgasps\", \"number\", \"hash\", \"age\", \"dirty\"]] = logs[\"message\"].str.split(\" \", expand=True)\n",
      "C:\\Users\\phili\\AppData\\Local\\Temp\\ipykernel_11216\\2170069253.py:2: SettingWithCopyWarning: \n",
      "A value is trying to be set on a copy of a slice from a DataFrame.\n",
      "Try using .loc[row_indexer,col_indexer] = value instead\n",
      "\n",
      "See the caveats in the documentation: https://pandas.pydata.org/pandas-docs/stable/user_guide/indexing.html#returning-a-view-versus-a-copy\n",
      "  logs[[\"blocks\", \"txs\", \"mgas\", \"elapsed\", \"mgasps\", \"number\", \"hash\", \"age\", \"dirty\"]] = logs[\"message\"].str.split(\" \", expand=True)\n",
      "C:\\Users\\phili\\AppData\\Local\\Temp\\ipykernel_11216\\2170069253.py:2: SettingWithCopyWarning: \n",
      "A value is trying to be set on a copy of a slice from a DataFrame.\n",
      "Try using .loc[row_indexer,col_indexer] = value instead\n",
      "\n",
      "See the caveats in the documentation: https://pandas.pydata.org/pandas-docs/stable/user_guide/indexing.html#returning-a-view-versus-a-copy\n",
      "  logs[[\"blocks\", \"txs\", \"mgas\", \"elapsed\", \"mgasps\", \"number\", \"hash\", \"age\", \"dirty\"]] = logs[\"message\"].str.split(\" \", expand=True)\n",
      "C:\\Users\\phili\\AppData\\Local\\Temp\\ipykernel_11216\\2170069253.py:2: SettingWithCopyWarning: \n",
      "A value is trying to be set on a copy of a slice from a DataFrame.\n",
      "Try using .loc[row_indexer,col_indexer] = value instead\n",
      "\n",
      "See the caveats in the documentation: https://pandas.pydata.org/pandas-docs/stable/user_guide/indexing.html#returning-a-view-versus-a-copy\n",
      "  logs[[\"blocks\", \"txs\", \"mgas\", \"elapsed\", \"mgasps\", \"number\", \"hash\", \"age\", \"dirty\"]] = logs[\"message\"].str.split(\" \", expand=True)\n",
      "C:\\Users\\phili\\AppData\\Local\\Temp\\ipykernel_11216\\2170069253.py:2: SettingWithCopyWarning: \n",
      "A value is trying to be set on a copy of a slice from a DataFrame.\n",
      "Try using .loc[row_indexer,col_indexer] = value instead\n",
      "\n",
      "See the caveats in the documentation: https://pandas.pydata.org/pandas-docs/stable/user_guide/indexing.html#returning-a-view-versus-a-copy\n",
      "  logs[[\"blocks\", \"txs\", \"mgas\", \"elapsed\", \"mgasps\", \"number\", \"hash\", \"age\", \"dirty\"]] = logs[\"message\"].str.split(\" \", expand=True)\n",
      "C:\\Users\\phili\\AppData\\Local\\Temp\\ipykernel_11216\\2170069253.py:2: SettingWithCopyWarning: \n",
      "A value is trying to be set on a copy of a slice from a DataFrame.\n",
      "Try using .loc[row_indexer,col_indexer] = value instead\n",
      "\n",
      "See the caveats in the documentation: https://pandas.pydata.org/pandas-docs/stable/user_guide/indexing.html#returning-a-view-versus-a-copy\n",
      "  logs[[\"blocks\", \"txs\", \"mgas\", \"elapsed\", \"mgasps\", \"number\", \"hash\", \"age\", \"dirty\"]] = logs[\"message\"].str.split(\" \", expand=True)\n",
      "C:\\Users\\phili\\AppData\\Local\\Temp\\ipykernel_11216\\2170069253.py:2: SettingWithCopyWarning: \n",
      "A value is trying to be set on a copy of a slice from a DataFrame.\n",
      "Try using .loc[row_indexer,col_indexer] = value instead\n",
      "\n",
      "See the caveats in the documentation: https://pandas.pydata.org/pandas-docs/stable/user_guide/indexing.html#returning-a-view-versus-a-copy\n",
      "  logs[[\"blocks\", \"txs\", \"mgas\", \"elapsed\", \"mgasps\", \"number\", \"hash\", \"age\", \"dirty\"]] = logs[\"message\"].str.split(\" \", expand=True)\n",
      "C:\\Users\\phili\\AppData\\Local\\Temp\\ipykernel_11216\\2170069253.py:2: SettingWithCopyWarning: \n",
      "A value is trying to be set on a copy of a slice from a DataFrame.\n",
      "Try using .loc[row_indexer,col_indexer] = value instead\n",
      "\n",
      "See the caveats in the documentation: https://pandas.pydata.org/pandas-docs/stable/user_guide/indexing.html#returning-a-view-versus-a-copy\n",
      "  logs[[\"blocks\", \"txs\", \"mgas\", \"elapsed\", \"mgasps\", \"number\", \"hash\", \"age\", \"dirty\"]] = logs[\"message\"].str.split(\" \", expand=True)\n",
      "C:\\Users\\phili\\AppData\\Local\\Temp\\ipykernel_11216\\2170069253.py:2: SettingWithCopyWarning: \n",
      "A value is trying to be set on a copy of a slice from a DataFrame.\n",
      "Try using .loc[row_indexer,col_indexer] = value instead\n",
      "\n",
      "See the caveats in the documentation: https://pandas.pydata.org/pandas-docs/stable/user_guide/indexing.html#returning-a-view-versus-a-copy\n",
      "  logs[[\"blocks\", \"txs\", \"mgas\", \"elapsed\", \"mgasps\", \"number\", \"hash\", \"age\", \"dirty\"]] = logs[\"message\"].str.split(\" \", expand=True)\n",
      "C:\\Users\\phili\\AppData\\Local\\Temp\\ipykernel_11216\\2170069253.py:3: SettingWithCopyWarning: \n",
      "A value is trying to be set on a copy of a slice from a DataFrame\n",
      "\n",
      "See the caveats in the documentation: https://pandas.pydata.org/pandas-docs/stable/user_guide/indexing.html#returning-a-view-versus-a-copy\n",
      "  logs.drop(columns=['level', 'message', 'age', 'dirty'], inplace=True)\n"
     ]
    }
   ],
   "source": [
    "\"blocks=1   txs=41   mgas=1.005  elapsed=49.407ms    mgasps=20.347  number=128 hash=761d67..4e8cf5 age=1m20s    dirty=100.21KiB\"\n",
    "logs[[\"blocks\", \"txs\", \"mgas\", \"elapsed\", \"mgasps\", \"number\", \"hash\", \"age\", \"dirty\"]] = logs[\"message\"].str.split(\" \", expand=True)\n",
    "logs.drop(columns=['level', 'message', 'age', 'dirty'], inplace=True)"
   ]
  },
  {
   "cell_type": "code",
   "execution_count": 44,
   "metadata": {},
   "outputs": [
    {
     "name": "stderr",
     "output_type": "stream",
     "text": [
      "C:\\Users\\phili\\AppData\\Local\\Temp\\ipykernel_11216\\701800437.py:1: SettingWithCopyWarning: \n",
      "A value is trying to be set on a copy of a slice from a DataFrame.\n",
      "Try using .loc[row_indexer,col_indexer] = value instead\n",
      "\n",
      "See the caveats in the documentation: https://pandas.pydata.org/pandas-docs/stable/user_guide/indexing.html#returning-a-view-versus-a-copy\n",
      "  logs[[\"blocks\", \"txs\", \"mgas\", \"elapsed\", \"mgasps\", \"number\", \"hash\"]]=logs[[\"blocks\", \"txs\", \"mgas\", \"elapsed\", \"mgasps\", \"number\", \"hash\"]].apply(lambda x: x.str.split(\"=\").str[1])\n"
     ]
    }
   ],
   "source": [
    "logs[[\"blocks\", \"txs\", \"mgas\", \"elapsed\", \"mgasps\", \"number\", \"hash\"]]=logs[[\"blocks\", \"txs\", \"mgas\", \"elapsed\", \"mgasps\", \"number\", \"hash\"]].apply(lambda x: x.str.split(\"=\").str[1])\n",
    "logs = logs.drop_duplicates(subset='hash', keep=\"first\")\n",
    "logs.sort_values(by=\"timestamp\", inplace=True)\n"
   ]
  },
  {
   "cell_type": "code",
   "execution_count": 45,
   "metadata": {},
   "outputs": [],
   "source": [
    "def filter_and_export(df, start, end, dt_col=\"timestamp\", outfile=\"outfile.csv\"):\n",
    "    filt_df = df[(df[dt_col] >= start) & (df[dt_col] <= end)]\n",
    "    if outfile:\n",
    "        filt_df.to_csv(outfile)\n",
    "        print(f\"Exported to {outfile}\")\n",
    "    return filt_df"
   ]
  },
  {
   "cell_type": "code",
   "execution_count": 46,
   "metadata": {},
   "outputs": [
    {
     "name": "stdout",
     "output_type": "stream",
     "text": [
      "Exported to 1strun.csv\n"
     ]
    },
    {
     "data": {
      "text/html": [
       "<div>\n",
       "<style scoped>\n",
       "    .dataframe tbody tr th:only-of-type {\n",
       "        vertical-align: middle;\n",
       "    }\n",
       "\n",
       "    .dataframe tbody tr th {\n",
       "        vertical-align: top;\n",
       "    }\n",
       "\n",
       "    .dataframe thead th {\n",
       "        text-align: right;\n",
       "    }\n",
       "</style>\n",
       "<table border=\"1\" class=\"dataframe\">\n",
       "  <thead>\n",
       "    <tr style=\"text-align: right;\">\n",
       "      <th></th>\n",
       "      <th>timestamp</th>\n",
       "      <th>filename</th>\n",
       "      <th>blocks</th>\n",
       "      <th>txs</th>\n",
       "      <th>mgas</th>\n",
       "      <th>elapsed</th>\n",
       "      <th>mgasps</th>\n",
       "      <th>number</th>\n",
       "      <th>hash</th>\n",
       "    </tr>\n",
       "  </thead>\n",
       "  <tbody>\n",
       "    <tr>\n",
       "      <th>147</th>\n",
       "      <td>2022-12-18 21:30:28.324</td>\n",
       "      <td>2022_12_18_08_24_pm_19216804.log</td>\n",
       "      <td>1</td>\n",
       "      <td>62</td>\n",
       "      <td>1.523</td>\n",
       "      <td>43.821ms</td>\n",
       "      <td>34.746</td>\n",
       "      <td>121</td>\n",
       "      <td>77edac..38cf3a</td>\n",
       "    </tr>\n",
       "    <tr>\n",
       "      <th>194</th>\n",
       "      <td>2022-12-18 21:32:29.484</td>\n",
       "      <td>2022_12_18_08_24_pm_19216804.log</td>\n",
       "      <td>1</td>\n",
       "      <td>61</td>\n",
       "      <td>1.499</td>\n",
       "      <td>43.593ms</td>\n",
       "      <td>34.381</td>\n",
       "      <td>122</td>\n",
       "      <td>e3da84..a9c02b</td>\n",
       "    </tr>\n",
       "    <tr>\n",
       "      <th>25321</th>\n",
       "      <td>2022-12-18 21:32:40.508</td>\n",
       "      <td>2022_12_18_08_24_pm_19216805.log</td>\n",
       "      <td>1</td>\n",
       "      <td>5</td>\n",
       "      <td>0.122</td>\n",
       "      <td>32.455ms</td>\n",
       "      <td>3.758</td>\n",
       "      <td>123</td>\n",
       "      <td>43b9a2..664404</td>\n",
       "    </tr>\n",
       "    <tr>\n",
       "      <th>25333</th>\n",
       "      <td>2022-12-18 21:33:06.206</td>\n",
       "      <td>2022_12_18_08_24_pm_19216805.log</td>\n",
       "      <td>1</td>\n",
       "      <td>13</td>\n",
       "      <td>0.321</td>\n",
       "      <td>18.357ms</td>\n",
       "      <td>17.490</td>\n",
       "      <td>124</td>\n",
       "      <td>02b810..e37b8b</td>\n",
       "    </tr>\n",
       "    <tr>\n",
       "      <th>229</th>\n",
       "      <td>2022-12-18 21:33:36.248</td>\n",
       "      <td>2022_12_18_08_24_pm_19216804.log</td>\n",
       "      <td>1</td>\n",
       "      <td>15</td>\n",
       "      <td>0.363</td>\n",
       "      <td>19.725ms</td>\n",
       "      <td>18.410</td>\n",
       "      <td>125</td>\n",
       "      <td>4683bb..704188</td>\n",
       "    </tr>\n",
       "    <tr>\n",
       "      <th>...</th>\n",
       "      <td>...</td>\n",
       "      <td>...</td>\n",
       "      <td>...</td>\n",
       "      <td>...</td>\n",
       "      <td>...</td>\n",
       "      <td>...</td>\n",
       "      <td>...</td>\n",
       "      <td>...</td>\n",
       "      <td>...</td>\n",
       "    </tr>\n",
       "    <tr>\n",
       "      <th>1665</th>\n",
       "      <td>2022-12-18 22:26:14.379</td>\n",
       "      <td>2022_12_18_08_24_pm_19216804.log</td>\n",
       "      <td>1</td>\n",
       "      <td>15</td>\n",
       "      <td>0.369</td>\n",
       "      <td>21.226ms</td>\n",
       "      <td>17.372</td>\n",
       "      <td>208</td>\n",
       "      <td>2fcd0c..962f1e</td>\n",
       "    </tr>\n",
       "    <tr>\n",
       "      <th>1668</th>\n",
       "      <td>2022-12-18 22:26:15.672</td>\n",
       "      <td>2022_12_18_08_24_pm_19216804.log</td>\n",
       "      <td>1</td>\n",
       "      <td>1</td>\n",
       "      <td>0.027</td>\n",
       "      <td>13.162ms</td>\n",
       "      <td>2.024</td>\n",
       "      <td>209</td>\n",
       "      <td>6a43e8..0a1156</td>\n",
       "    </tr>\n",
       "    <tr>\n",
       "      <th>1672</th>\n",
       "      <td>2022-12-18 22:26:20.602</td>\n",
       "      <td>2022_12_18_08_24_pm_19216804.log</td>\n",
       "      <td>1</td>\n",
       "      <td>2</td>\n",
       "      <td>0.048</td>\n",
       "      <td>13.169ms</td>\n",
       "      <td>3.620</td>\n",
       "      <td>210</td>\n",
       "      <td>e14501..7f7c92</td>\n",
       "    </tr>\n",
       "    <tr>\n",
       "      <th>1699</th>\n",
       "      <td>2022-12-18 22:27:29.428</td>\n",
       "      <td>2022_12_18_08_24_pm_19216804.log</td>\n",
       "      <td>1</td>\n",
       "      <td>35</td>\n",
       "      <td>0.865</td>\n",
       "      <td>30.996ms</td>\n",
       "      <td>27.909</td>\n",
       "      <td>211</td>\n",
       "      <td>eca486..040274</td>\n",
       "    </tr>\n",
       "    <tr>\n",
       "      <th>26865</th>\n",
       "      <td>2022-12-18 22:29:41.394</td>\n",
       "      <td>2022_12_18_08_24_pm_19216805.log</td>\n",
       "      <td>1</td>\n",
       "      <td>67</td>\n",
       "      <td>1.636</td>\n",
       "      <td>52.752ms</td>\n",
       "      <td>31.017</td>\n",
       "      <td>212</td>\n",
       "      <td>2461d3..590573</td>\n",
       "    </tr>\n",
       "  </tbody>\n",
       "</table>\n",
       "<p>92 rows × 9 columns</p>\n",
       "</div>"
      ],
      "text/plain": [
       "                    timestamp                          filename blocks txs  \\\n",
       "147   2022-12-18 21:30:28.324  2022_12_18_08_24_pm_19216804.log      1  62   \n",
       "194   2022-12-18 21:32:29.484  2022_12_18_08_24_pm_19216804.log      1  61   \n",
       "25321 2022-12-18 21:32:40.508  2022_12_18_08_24_pm_19216805.log      1   5   \n",
       "25333 2022-12-18 21:33:06.206  2022_12_18_08_24_pm_19216805.log      1  13   \n",
       "229   2022-12-18 21:33:36.248  2022_12_18_08_24_pm_19216804.log      1  15   \n",
       "...                       ...                               ...    ...  ..   \n",
       "1665  2022-12-18 22:26:14.379  2022_12_18_08_24_pm_19216804.log      1  15   \n",
       "1668  2022-12-18 22:26:15.672  2022_12_18_08_24_pm_19216804.log      1   1   \n",
       "1672  2022-12-18 22:26:20.602  2022_12_18_08_24_pm_19216804.log      1   2   \n",
       "1699  2022-12-18 22:27:29.428  2022_12_18_08_24_pm_19216804.log      1  35   \n",
       "26865 2022-12-18 22:29:41.394  2022_12_18_08_24_pm_19216805.log      1  67   \n",
       "\n",
       "        mgas   elapsed  mgasps number            hash  \n",
       "147    1.523  43.821ms  34.746    121  77edac..38cf3a  \n",
       "194    1.499  43.593ms  34.381    122  e3da84..a9c02b  \n",
       "25321  0.122  32.455ms   3.758    123  43b9a2..664404  \n",
       "25333  0.321  18.357ms  17.490    124  02b810..e37b8b  \n",
       "229    0.363  19.725ms  18.410    125  4683bb..704188  \n",
       "...      ...       ...     ...    ...             ...  \n",
       "1665   0.369  21.226ms  17.372    208  2fcd0c..962f1e  \n",
       "1668   0.027  13.162ms   2.024    209  6a43e8..0a1156  \n",
       "1672   0.048  13.169ms   3.620    210  e14501..7f7c92  \n",
       "1699   0.865  30.996ms  27.909    211  eca486..040274  \n",
       "26865  1.636  52.752ms  31.017    212  2461d3..590573  \n",
       "\n",
       "[92 rows x 9 columns]"
      ]
     },
     "execution_count": 46,
     "metadata": {},
     "output_type": "execute_result"
    }
   ],
   "source": [
    "filter_and_export(logs, \"2022-12-18 21:30:00\", \"2022-12-18 22:30:00\", outfile=\"1strun.csv\")"
   ]
  }
 ],
 "metadata": {
  "kernelspec": {
   "display_name": "env",
   "language": "python",
   "name": "python3"
  },
  "language_info": {
   "codemirror_mode": {
    "name": "ipython",
    "version": 3
   },
   "file_extension": ".py",
   "mimetype": "text/x-python",
   "name": "python",
   "nbconvert_exporter": "python",
   "pygments_lexer": "ipython3",
   "version": "3.10.0 (tags/v3.10.0:b494f59, Oct  4 2021, 19:00:18) [MSC v.1929 64 bit (AMD64)]"
  },
  "orig_nbformat": 4,
  "vscode": {
   "interpreter": {
    "hash": "3127ec8df528ac8a8b9cc1c58c72a4969367d245b46c772bc1f2d0f001068fd6"
   }
  }
 },
 "nbformat": 4,
 "nbformat_minor": 2
}
